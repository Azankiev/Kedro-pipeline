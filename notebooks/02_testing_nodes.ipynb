{
 "cells": [
  {
   "cell_type": "code",
   "execution_count": 9,
   "id": "92b10b82-b382-4e69-9a56-da6bbe243993",
   "metadata": {},
   "outputs": [],
   "source": [
    "import pandas as pd\n",
    "\n",
    "def preprocess_accounts_per_org(accounts_per_org: pd.DataFrame) -> pd.DataFrame:\n",
    "\n",
    "    df = accounts_per_org[['Account ID', 'Name']].copy()\n",
    "    df = df.rename(columns={'Account ID': 'account_id', 'Name': 'name'})\n",
    "    df['account_id'\n",
    "\n",
    "    return df"
   ]
  },
  {
   "cell_type": "code",
   "execution_count": 3,
   "id": "94e63b61-e115-449b-a690-d779f27398c3",
   "metadata": {},
   "outputs": [
    {
     "data": {
      "text/plain": [
       "['accounts_per_organization',\n",
       " 's3_pocs_cur_dataset',\n",
       " 'pocs_cur_dataset',\n",
       " 's3_intelbras_cur_dataset',\n",
       " 'intelbras_cur_dataset',\n",
       " 'parameters',\n",
       " 'params:data_prep_raw_params',\n",
       " 'params:data_prep_raw_params.kept_columns']"
      ]
     },
     "execution_count": 3,
     "metadata": {},
     "output_type": "execute_result"
    }
   ],
   "source": [
    "catalog.list()"
   ]
  },
  {
   "cell_type": "code",
   "execution_count": 1,
   "id": "2fb4392f-05be-4fe8-bfc4-af18d34861d9",
   "metadata": {},
   "outputs": [
    {
     "data": {
      "text/html": [
       "<pre style=\"white-space:pre;overflow-x:auto;line-height:normal;font-family:Menlo,'DejaVu Sans Mono',consolas,'Courier New',monospace\"><span style=\"color: #7fbfbf; text-decoration-color: #7fbfbf\">[06/29/23 15:00:56] </span><span style=\"color: #000080; text-decoration-color: #000080\">INFO    </span> Loading data from <span style=\"color: #008000; text-decoration-color: #008000\">'accounts_per_organization'</span> <span style=\"font-weight: bold\">(</span>CSVDataSet<span style=\"font-weight: bold\">)</span><span style=\"color: #808000; text-decoration-color: #808000\">...</span>      <a href=\"file:///home/fentanes/projects/cost_dashboard/venv_kedro/lib/python3.10/site-packages/kedro/io/data_catalog.py\" target=\"_blank\"><span style=\"color: #7f7f7f; text-decoration-color: #7f7f7f\">data_catalog.py</span></a><span style=\"color: #7f7f7f; text-decoration-color: #7f7f7f\">:</span><a href=\"file:///home/fentanes/projects/cost_dashboard/venv_kedro/lib/python3.10/site-packages/kedro/io/data_catalog.py#345\" target=\"_blank\"><span style=\"color: #7f7f7f; text-decoration-color: #7f7f7f\">345</span></a>\n",
       "</pre>\n"
      ],
      "text/plain": [
       "\u001b[2;36m[06/29/23 15:00:56]\u001b[0m\u001b[2;36m \u001b[0m\u001b[34mINFO    \u001b[0m Loading data from \u001b[32m'accounts_per_organization'\u001b[0m \u001b[1m(\u001b[0mCSVDataSet\u001b[1m)\u001b[0m\u001b[33m...\u001b[0m      \u001b]8;id=637805;file:///home/fentanes/projects/cost_dashboard/venv_kedro/lib/python3.10/site-packages/kedro/io/data_catalog.py\u001b\\\u001b[2mdata_catalog.py\u001b[0m\u001b]8;;\u001b\\\u001b[2m:\u001b[0m\u001b]8;id=948958;file:///home/fentanes/projects/cost_dashboard/venv_kedro/lib/python3.10/site-packages/kedro/io/data_catalog.py#345\u001b\\\u001b[2m345\u001b[0m\u001b]8;;\u001b\\\n"
      ]
     },
     "metadata": {},
     "output_type": "display_data"
    },
    {
     "data": {
      "text/html": [
       "<div>\n",
       "<style scoped>\n",
       "    .dataframe tbody tr th:only-of-type {\n",
       "        vertical-align: middle;\n",
       "    }\n",
       "\n",
       "    .dataframe tbody tr th {\n",
       "        vertical-align: top;\n",
       "    }\n",
       "\n",
       "    .dataframe thead th {\n",
       "        text-align: right;\n",
       "    }\n",
       "</style>\n",
       "<table border=\"1\" class=\"dataframe\">\n",
       "  <thead>\n",
       "    <tr style=\"text-align: right;\">\n",
       "      <th></th>\n",
       "      <th>Account ID</th>\n",
       "      <th>ARN</th>\n",
       "      <th>Email</th>\n",
       "      <th>Name</th>\n",
       "      <th>Status</th>\n",
       "      <th>Joined method</th>\n",
       "      <th>Joined timestamp</th>\n",
       "    </tr>\n",
       "  </thead>\n",
       "  <tbody>\n",
       "    <tr>\n",
       "      <th>0</th>\n",
       "      <td>705000000000</td>\n",
       "      <td>arn:aws:organizations::409971264184:account/o-...</td>\n",
       "      <td>billling-pocs-aws+finopsprocessamento@datarain...</td>\n",
       "      <td>FinOps Processamento</td>\n",
       "      <td>SUSPENDED</td>\n",
       "      <td>CREATED</td>\n",
       "      <td>Mon Jan 30 2023 14:41:04 GMT-0300 (-03)</td>\n",
       "    </tr>\n",
       "    <tr>\n",
       "      <th>1</th>\n",
       "      <td>594000000000</td>\n",
       "      <td>arn:aws:organizations::409971264184:account/o-...</td>\n",
       "      <td>billling-pocs-aws+SES@datarain.com.br</td>\n",
       "      <td>SES - Secretaria da Saude - Assessment</td>\n",
       "      <td>ACTIVE</td>\n",
       "      <td>CREATED</td>\n",
       "      <td>Fri Jun 02 2023 10:50:54 GMT-0300 (-03)</td>\n",
       "    </tr>\n",
       "    <tr>\n",
       "      <th>2</th>\n",
       "      <td>895000000000</td>\n",
       "      <td>arn:aws:organizations::409971264184:account/o-...</td>\n",
       "      <td>billling-pocs-aws+IntelbrasContainer@datarain....</td>\n",
       "      <td>Intelbras - Container PoC</td>\n",
       "      <td>ACTIVE</td>\n",
       "      <td>CREATED</td>\n",
       "      <td>Thu Jan 26 2023 10:10:54 GMT-0300 (-03)</td>\n",
       "    </tr>\n",
       "    <tr>\n",
       "      <th>3</th>\n",
       "      <td>665000000000</td>\n",
       "      <td>arn:aws:organizations::409971264184:account/o-...</td>\n",
       "      <td>billling-pocs-aws+DiscDayEstacio@datarain.com.br</td>\n",
       "      <td>Disc Day - Estacio</td>\n",
       "      <td>SUSPENDED</td>\n",
       "      <td>CREATED</td>\n",
       "      <td>Mon May 15 2023 15:40:57 GMT-0300 (-03)</td>\n",
       "    </tr>\n",
       "    <tr>\n",
       "      <th>4</th>\n",
       "      <td>609000000000</td>\n",
       "      <td>arn:aws:organizations::409971264184:account/o-...</td>\n",
       "      <td>billling-pocs-aws+ALESP@datarain.com.br</td>\n",
       "      <td>ALESP - Assessment</td>\n",
       "      <td>ACTIVE</td>\n",
       "      <td>CREATED</td>\n",
       "      <td>Fri Jun 02 2023 10:51:18 GMT-0300 (-03)</td>\n",
       "    </tr>\n",
       "  </tbody>\n",
       "</table>\n",
       "</div>"
      ],
      "text/plain": [
       "     Account ID                                                ARN  \\\n",
       "0  705000000000  arn:aws:organizations::409971264184:account/o-...   \n",
       "1  594000000000  arn:aws:organizations::409971264184:account/o-...   \n",
       "2  895000000000  arn:aws:organizations::409971264184:account/o-...   \n",
       "3  665000000000  arn:aws:organizations::409971264184:account/o-...   \n",
       "4  609000000000  arn:aws:organizations::409971264184:account/o-...   \n",
       "\n",
       "                                               Email  \\\n",
       "0  billling-pocs-aws+finopsprocessamento@datarain...   \n",
       "1              billling-pocs-aws+SES@datarain.com.br   \n",
       "2  billling-pocs-aws+IntelbrasContainer@datarain....   \n",
       "3   billling-pocs-aws+DiscDayEstacio@datarain.com.br   \n",
       "4            billling-pocs-aws+ALESP@datarain.com.br   \n",
       "\n",
       "                                     Name     Status Joined method  \\\n",
       "0                    FinOps Processamento  SUSPENDED       CREATED   \n",
       "1  SES - Secretaria da Saude - Assessment     ACTIVE       CREATED   \n",
       "2               Intelbras - Container PoC     ACTIVE       CREATED   \n",
       "3                      Disc Day - Estacio  SUSPENDED       CREATED   \n",
       "4                      ALESP - Assessment     ACTIVE       CREATED   \n",
       "\n",
       "                          Joined timestamp  \n",
       "0  Mon Jan 30 2023 14:41:04 GMT-0300 (-03)  \n",
       "1  Fri Jun 02 2023 10:50:54 GMT-0300 (-03)  \n",
       "2  Thu Jan 26 2023 10:10:54 GMT-0300 (-03)  \n",
       "3  Mon May 15 2023 15:40:57 GMT-0300 (-03)  \n",
       "4  Fri Jun 02 2023 10:51:18 GMT-0300 (-03)  "
      ]
     },
     "execution_count": 1,
     "metadata": {},
     "output_type": "execute_result"
    }
   ],
   "source": [
    "df_accounts_per_org = catalog.load('accounts_per_organization')\n",
    "df_accounts_per_org.head()"
   ]
  },
  {
   "cell_type": "code",
   "execution_count": 1,
   "id": "e511be63-e72a-4d11-9f0b-b4d55443a77c",
   "metadata": {},
   "outputs": [
    {
     "data": {
      "text/html": [
       "<pre style=\"white-space:pre;overflow-x:auto;line-height:normal;font-family:Menlo,'DejaVu Sans Mono',consolas,'Courier New',monospace\"><span style=\"color: #800000; text-decoration-color: #800000\">╭─────────────────────────────── </span><span style=\"color: #800000; text-decoration-color: #800000; font-weight: bold\">Traceback </span><span style=\"color: #bf7f7f; text-decoration-color: #bf7f7f; font-weight: bold\">(most recent call last)</span><span style=\"color: #800000; text-decoration-color: #800000\"> ────────────────────────────────╮</span>\n",
       "<span style=\"color: #800000; text-decoration-color: #800000\">│</span> in <span style=\"color: #00ff00; text-decoration-color: #00ff00\">&lt;module&gt;</span>:<span style=\"color: #0000ff; text-decoration-color: #0000ff\">1</span>                                                                                    <span style=\"color: #800000; text-decoration-color: #800000\">│</span>\n",
       "<span style=\"color: #800000; text-decoration-color: #800000\">│</span>                                                                                                  <span style=\"color: #800000; text-decoration-color: #800000\">│</span>\n",
       "<span style=\"color: #800000; text-decoration-color: #800000\">│</span> <span style=\"color: #800000; text-decoration-color: #800000\">❱ </span>1 df = preprocess_accounts_per_org(df_accounts_per_org)                                        <span style=\"color: #800000; text-decoration-color: #800000\">│</span>\n",
       "<span style=\"color: #800000; text-decoration-color: #800000\">│</span>   <span style=\"color: #7f7f7f; text-decoration-color: #7f7f7f\">2 </span>df                                                                                           <span style=\"color: #800000; text-decoration-color: #800000\">│</span>\n",
       "<span style=\"color: #800000; text-decoration-color: #800000\">│</span>   <span style=\"color: #7f7f7f; text-decoration-color: #7f7f7f\">3 </span>                                                                                             <span style=\"color: #800000; text-decoration-color: #800000\">│</span>\n",
       "<span style=\"color: #800000; text-decoration-color: #800000\">╰──────────────────────────────────────────────────────────────────────────────────────────────────╯</span>\n",
       "<span style=\"color: #ff0000; text-decoration-color: #ff0000; font-weight: bold\">NameError: </span>name <span style=\"color: #008000; text-decoration-color: #008000\">'preprocess_accounts_per_org'</span> is not defined\n",
       "</pre>\n"
      ],
      "text/plain": [
       "\u001b[31m╭─\u001b[0m\u001b[31m──────────────────────────────\u001b[0m\u001b[31m \u001b[0m\u001b[1;31mTraceback \u001b[0m\u001b[1;2;31m(most recent call last)\u001b[0m\u001b[31m \u001b[0m\u001b[31m───────────────────────────────\u001b[0m\u001b[31m─╮\u001b[0m\n",
       "\u001b[31m│\u001b[0m in \u001b[92m<module>\u001b[0m:\u001b[94m1\u001b[0m                                                                                    \u001b[31m│\u001b[0m\n",
       "\u001b[31m│\u001b[0m                                                                                                  \u001b[31m│\u001b[0m\n",
       "\u001b[31m│\u001b[0m \u001b[31m❱ \u001b[0m1 df = preprocess_accounts_per_org(df_accounts_per_org)                                        \u001b[31m│\u001b[0m\n",
       "\u001b[31m│\u001b[0m   \u001b[2m2 \u001b[0mdf                                                                                           \u001b[31m│\u001b[0m\n",
       "\u001b[31m│\u001b[0m   \u001b[2m3 \u001b[0m                                                                                             \u001b[31m│\u001b[0m\n",
       "\u001b[31m╰──────────────────────────────────────────────────────────────────────────────────────────────────╯\u001b[0m\n",
       "\u001b[1;91mNameError: \u001b[0mname \u001b[32m'preprocess_accounts_per_org'\u001b[0m is not defined\n"
      ]
     },
     "metadata": {},
     "output_type": "display_data"
    }
   ],
   "source": [
    "df = preprocess_accounts_per_org(df_accounts_per_org)\n",
    "df"
   ]
  },
  {
   "cell_type": "code",
   "execution_count": 14,
   "id": "596b044f-5b0f-4233-83f1-8a26dd3b55da",
   "metadata": {},
   "outputs": [
    {
     "data": {
      "text/html": [
       "<div>\n",
       "<style scoped>\n",
       "    .dataframe tbody tr th:only-of-type {\n",
       "        vertical-align: middle;\n",
       "    }\n",
       "\n",
       "    .dataframe tbody tr th {\n",
       "        vertical-align: top;\n",
       "    }\n",
       "\n",
       "    .dataframe thead th {\n",
       "        text-align: right;\n",
       "    }\n",
       "</style>\n",
       "<table border=\"1\" class=\"dataframe\">\n",
       "  <thead>\n",
       "    <tr style=\"text-align: right;\">\n",
       "      <th></th>\n",
       "      <th>account_id</th>\n",
       "      <th>name</th>\n",
       "    </tr>\n",
       "  </thead>\n",
       "  <tbody>\n",
       "    <tr>\n",
       "      <th>0</th>\n",
       "      <td>705000000000</td>\n",
       "      <td>FinOps Processamento</td>\n",
       "    </tr>\n",
       "    <tr>\n",
       "      <th>1</th>\n",
       "      <td>594000000000</td>\n",
       "      <td>SES - Secretaria da Saude - Assessment</td>\n",
       "    </tr>\n",
       "    <tr>\n",
       "      <th>2</th>\n",
       "      <td>895000000000</td>\n",
       "      <td>Intelbras - Container PoC</td>\n",
       "    </tr>\n",
       "    <tr>\n",
       "      <th>3</th>\n",
       "      <td>665000000000</td>\n",
       "      <td>Disc Day - Estacio</td>\n",
       "    </tr>\n",
       "    <tr>\n",
       "      <th>4</th>\n",
       "      <td>609000000000</td>\n",
       "      <td>ALESP - Assessment</td>\n",
       "    </tr>\n",
       "    <tr>\n",
       "      <th>...</th>\n",
       "      <td>...</td>\n",
       "      <td>...</td>\n",
       "    </tr>\n",
       "    <tr>\n",
       "      <th>63</th>\n",
       "      <td>564000000000</td>\n",
       "      <td>Shift</td>\n",
       "    </tr>\n",
       "    <tr>\n",
       "      <th>64</th>\n",
       "      <td>400000000000</td>\n",
       "      <td>TRN GB</td>\n",
       "    </tr>\n",
       "    <tr>\n",
       "      <th>65</th>\n",
       "      <td>913000000000</td>\n",
       "      <td>GB TRN2</td>\n",
       "    </tr>\n",
       "    <tr>\n",
       "      <th>66</th>\n",
       "      <td>623000000000</td>\n",
       "      <td>intelbras-teste-networking</td>\n",
       "    </tr>\n",
       "    <tr>\n",
       "      <th>67</th>\n",
       "      <td>550000000000</td>\n",
       "      <td>intelbras-teste-spoke1</td>\n",
       "    </tr>\n",
       "  </tbody>\n",
       "</table>\n",
       "<p>68 rows × 2 columns</p>\n",
       "</div>"
      ],
      "text/plain": [
       "      account_id                                    name\n",
       "0   705000000000                    FinOps Processamento\n",
       "1   594000000000  SES - Secretaria da Saude - Assessment\n",
       "2   895000000000               Intelbras - Container PoC\n",
       "3   665000000000                      Disc Day - Estacio\n",
       "4   609000000000                      ALESP - Assessment\n",
       "..           ...                                     ...\n",
       "63  564000000000                                   Shift\n",
       "64  400000000000                                  TRN GB\n",
       "65  913000000000                                 GB TRN2\n",
       "66  623000000000              intelbras-teste-networking\n",
       "67  550000000000                  intelbras-teste-spoke1\n",
       "\n",
       "[68 rows x 2 columns]"
      ]
     },
     "execution_count": 14,
     "metadata": {},
     "output_type": "execute_result"
    }
   ],
   "source": [
    "df['account_id'] = df['account_id'].astype(int)\n",
    "df"
   ]
  },
  {
   "cell_type": "code",
   "execution_count": null,
   "id": "63a71f2c-c474-4f23-9bc2-19db3cf409fa",
   "metadata": {},
   "outputs": [],
   "source": []
  }
 ],
 "metadata": {
  "kernelspec": {
   "display_name": "Kedro (cost_pipeline)",
   "language": "python",
   "name": "kedro_cost_pipeline"
  },
  "language_info": {
   "codemirror_mode": {
    "name": "ipython",
    "version": 3
   },
   "file_extension": ".py",
   "mimetype": "text/x-python",
   "name": "python",
   "nbconvert_exporter": "python",
   "pygments_lexer": "ipython3",
   "version": "3.10.6"
  }
 },
 "nbformat": 4,
 "nbformat_minor": 5
}
