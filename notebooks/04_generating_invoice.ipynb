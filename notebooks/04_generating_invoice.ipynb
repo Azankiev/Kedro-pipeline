{
 "cells": [
  {
   "cell_type": "code",
   "execution_count": null,
   "id": "50546ced-953a-4f43-9426-699dac1dfe3d",
   "metadata": {},
   "outputs": [],
   "source": [
    "import pandas as pd\n",
    "\n",
    "pd.set_option('display.max_columns', 30)"
   ]
  },
  {
   "cell_type": "markdown",
   "id": "95728c5b-d20e-4577-abc9-622e4088609d",
   "metadata": {},
   "source": [
    "# Invoice Generation from CUR"
   ]
  },
  {
   "cell_type": "code",
   "execution_count": null,
   "id": "62a65cb2-755c-4ef2-a60d-5f445cc07fc2",
   "metadata": {},
   "outputs": [],
   "source": [
    "catalog.list()"
   ]
  },
  {
   "cell_type": "markdown",
   "id": "d4176a5e-d8ab-4886-bcb9-c2e72eecf24e",
   "metadata": {},
   "source": [
    "## Analyzing Infra 2 CUR of 2023-05"
   ]
  },
  {
   "cell_type": "markdown",
   "id": "a3c40484-2f82-4423-b611-e8155adadc09",
   "metadata": {},
   "source": [
    "## Loading from S3"
   ]
  },
  {
   "cell_type": "code",
   "execution_count": null,
   "id": "574793d7-d210-4411-8b76-92455f2428ff",
   "metadata": {},
   "outputs": [],
   "source": [
    "s3_infra2_cur = list(catalog.load('s3_infra2_cur_dataset').items())\n",
    "s3_infra2_cur202305 = [t for t in s3_infra2_cur if t[0] == 'year=2023/month=5/CUR-00001.snappy.parquet'][0]\n",
    "infra2_cur202305 = s3_infra2_cur202305[1]()\n",
    "infra2_cur202305"
   ]
  },
  {
   "cell_type": "code",
   "execution_count": null,
   "id": "4c0a0577-7cfe-4cf4-bb9f-c46ae3ca6dc7",
   "metadata": {},
   "outputs": [],
   "source": []
  },
  {
   "cell_type": "markdown",
   "id": "c7f29ab1-97e7-421f-a2c4-bccdd6de4ea1",
   "metadata": {},
   "source": [
    "## Loading CUR1 from 01_raw"
   ]
  },
  {
   "cell_type": "code",
   "execution_count": null,
   "id": "b40a257c-6d4a-4ef0-9398-3429e6a12e1a",
   "metadata": {},
   "outputs": [],
   "source": [
    "infra2_cur = list(catalog.load('infra2_cur_dataset').items())\n",
    "infra2_cur"
   ]
  },
  {
   "cell_type": "code",
   "execution_count": null,
   "id": "b7eabeb7-5195-4fb1-a959-a17cb687990b",
   "metadata": {},
   "outputs": [],
   "source": [
    "infra2_cur1 = infra2_cur[0][1]()\n",
    "infra2_cur1.head(100)"
   ]
  },
  {
   "cell_type": "code",
   "execution_count": null,
   "id": "fb983b92-14e9-4966-a83e-6b9289b8a12b",
   "metadata": {},
   "outputs": [],
   "source": [
    "infra2_cur1['line_item_usage_account_id'].dtype"
   ]
  },
  {
   "cell_type": "code",
   "execution_count": null,
   "id": "d91d30a7-f03c-4ef0-91d7-ecf5573e4d4e",
   "metadata": {},
   "outputs": [],
   "source": [
    "infra2_cur1['product_product_name'].unique()"
   ]
  },
  {
   "cell_type": "markdown",
   "id": "33e70345-4c6c-4588-98b9-86479590663d",
   "metadata": {},
   "source": [
    "## Replicating Infra 2 - Marketplace - Invoice ID 1349042489"
   ]
  },
  {
   "cell_type": "markdown",
   "id": "e049e459-4110-4c0e-b27c-57dd4defaae6",
   "metadata": {},
   "source": [
    "### Detail for Consolidated Bill"
   ]
  },
  {
   "cell_type": "code",
   "execution_count": null,
   "id": "af123900-2153-4dc2-b3ca-79761a38873b",
   "metadata": {},
   "outputs": [],
   "source": [
    "infra2_cur1.groupby(by='product_product_name')['line_item_unblended_cost'].sum().reset_index()"
   ]
  },
  {
   "cell_type": "code",
   "execution_count": null,
   "id": "6698ebf2-8d89-4f07-aebc-fb2f39a30cf0",
   "metadata": {},
   "outputs": [],
   "source": [
    "infra2_cur1['line_item_unblended_cost'].sum()"
   ]
  },
  {
   "cell_type": "markdown",
   "id": "b2de3aca-5792-40a7-b61b-e500d233868a",
   "metadata": {
    "jp-MarkdownHeadingCollapsed": true,
    "tags": []
   },
   "source": [
    "#### <font color='green'>Matches the PDF invoice</font>"
   ]
  },
  {
   "cell_type": "markdown",
   "id": "31d68e94-185a-41c3-a6e2-4913e744a726",
   "metadata": {},
   "source": [
    "### Linked Account Allocation\n",
    "#### Activity By Account"
   ]
  },
  {
   "cell_type": "code",
   "execution_count": null,
   "id": "5dcc0f08-6e93-41c6-bce7-e1ba15a26e99",
   "metadata": {},
   "outputs": [],
   "source": [
    "infra2_cur1.groupby(by='line_item_usage_account_id')['line_item_unblended_cost'].sum()"
   ]
  },
  {
   "cell_type": "code",
   "execution_count": null,
   "id": "8b457760-833e-434d-8f60-4476b8f82702",
   "metadata": {},
   "outputs": [],
   "source": [
    "len('065716851408'), len('167002523613'), len('273762107511'), len('465517541486'), len('563324065975'), len('901519325564')"
   ]
  },
  {
   "cell_type": "markdown",
   "id": "3f3b6471-1d5d-45b2-be5f-1f424acaef15",
   "metadata": {
    "tags": []
   },
   "source": [
    "#### <font color='green'>Matches the PDF invoice</font>"
   ]
  },
  {
   "cell_type": "code",
   "execution_count": null,
   "id": "c6ebab31-1f04-410f-a30a-2f49d622184e",
   "metadata": {},
   "outputs": [],
   "source": [
    "infra2_cur1.groupby(by=['line_item_usage_account_id', 'product_product_name'])['line_item_unblended_cost'].sum()"
   ]
  },
  {
   "cell_type": "markdown",
   "id": "bcf5f2d4-eeb5-49fd-8077-037c07898fe3",
   "metadata": {},
   "source": [
    "## Loading CUR2 from 01_raw"
   ]
  },
  {
   "cell_type": "code",
   "execution_count": null,
   "id": "f78fece9-7c4f-411c-a203-9d2a8f746572",
   "metadata": {},
   "outputs": [],
   "source": [
    "infra2_cur2 = infra2_cur[1][1]()\n",
    "infra2_cur2.head(100)"
   ]
  },
  {
   "cell_type": "code",
   "execution_count": null,
   "id": "a6a21f78-98b8-4182-8f0f-7fedb54228d0",
   "metadata": {},
   "outputs": [],
   "source": [
    "infra2_cur2['line_item_unblended_cost'].sum()"
   ]
  },
  {
   "cell_type": "code",
   "execution_count": null,
   "id": "8cae0fe8-8a94-4b66-ba40-3f6fd93ce0c5",
   "metadata": {},
   "outputs": [],
   "source": []
  },
  {
   "cell_type": "markdown",
   "id": "78c0376b-e1c9-44da-aa8a-464766ab81e7",
   "metadata": {},
   "source": [
    "## Loading CUR3 from 01_raw"
   ]
  },
  {
   "cell_type": "code",
   "execution_count": null,
   "id": "e0906994-0a0c-4b3c-b932-00d5afbf2070",
   "metadata": {},
   "outputs": [],
   "source": [
    "infra2_cur3 = infra2_cur[2][1]()\n",
    "print(infra2_cur3.shape)\n",
    "infra2_cur3.head(100)"
   ]
  },
  {
   "cell_type": "code",
   "execution_count": null,
   "id": "270dfbb8-4729-475a-b0fe-807ea352bee5",
   "metadata": {},
   "outputs": [],
   "source": [
    "infra2_cur3.groupby(by=['line_item_usage_account_id', 'product_product_name', 'line_item_currency_code'])['line_item_unblended_cost'].sum()"
   ]
  },
  {
   "cell_type": "code",
   "execution_count": null,
   "id": "de75b4e7-c182-4857-af14-32dc12c14459",
   "metadata": {},
   "outputs": [],
   "source": []
  }
 ],
 "metadata": {
  "kernelspec": {
   "display_name": "Kedro (cost_pipeline)",
   "language": "python",
   "name": "kedro_cost_pipeline"
  },
  "language_info": {
   "codemirror_mode": {
    "name": "ipython",
    "version": 3
   },
   "file_extension": ".py",
   "mimetype": "text/x-python",
   "name": "python",
   "nbconvert_exporter": "python",
   "pygments_lexer": "ipython3",
   "version": "3.10.6"
  }
 },
 "nbformat": 4,
 "nbformat_minor": 5
}
